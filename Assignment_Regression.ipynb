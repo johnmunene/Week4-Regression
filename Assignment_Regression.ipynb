{
 "cells": [
  {
   "cell_type": "markdown",
   "id": "d2e45909",
   "metadata": {},
   "source": [
    "### Problem Statement:\n",
    "Mobile carrier Megaline has found out that many of their subscribers use legacy plans.\n",
    "They want to develop a model that would analyze subscribers' behavior and recommend\n",
    "one of Megaline's newer plans: Smart or Ultra.\n"
   ]
  },
  {
   "cell_type": "markdown",
   "id": "714f4f96",
   "metadata": {},
   "source": [
    "### Data analytic question\n",
    "To develop a model that predicts the best mobile plan for a subscriber"
   ]
  },
  {
   "cell_type": "markdown",
   "id": "5f6dc76e",
   "metadata": {},
   "source": [
    "### Measure of success\n",
    "\n",
    "The accuracy of the model should be 0.75"
   ]
  },
  {
   "cell_type": "code",
   "execution_count": 9,
   "id": "4992f867",
   "metadata": {},
   "outputs": [],
   "source": [
    "# Importing our libraries\n",
    "# ---\n",
    "# import Pandas for data manipulation\n",
    "import pandas as pd\n",
    "#improt numpy for arithimetic oprations\n",
    "import numpy as np\n",
    "from sklearn.tree import DecisionTreeClassifier\n",
    "# to split the data set import \n",
    "from sklearn.model_selection import train_test_split\n",
    "# to calculate mse, mae and r2 import the function from sklearn\n",
    "from sklearn.metrics import mean_absolute_error, mean_squared_error, r2_score"
   ]
  },
  {
   "cell_type": "code",
   "execution_count": 3,
   "id": "4b7ce09d",
   "metadata": {},
   "outputs": [],
   "source": [
    "# Load and read the data as store it as plan_df data frame\n",
    "plan_df = pd.read_csv(\"https://bit.ly/UsersBehaviourTelco\")"
   ]
  },
  {
   "cell_type": "markdown",
   "id": "5d5d18a5",
   "metadata": {},
   "source": [
    "### Since the data is clean as stated, we skip preparation and cleaning"
   ]
  },
  {
   "cell_type": "markdown",
   "id": "f79869d3",
   "metadata": {},
   "source": [
    "## Solution"
   ]
  },
  {
   "cell_type": "code",
   "execution_count": 4,
   "id": "a0674978",
   "metadata": {},
   "outputs": [],
   "source": [
    "# split the data into train, valid and test\n",
    "initial_train, test = train_test_split(plan_df, test_size = 0.2, random_state=40)\n",
    "train, valid = train_test_split(initial_train, test_size = 0.1, random_state=40)"
   ]
  },
  {
   "cell_type": "code",
   "execution_count": 5,
   "id": "cd043171",
   "metadata": {},
   "outputs": [
    {
     "data": {
      "text/plain": [
       "array([0, 1], dtype=int64)"
      ]
     },
     "execution_count": 5,
     "metadata": {},
     "output_type": "execute_result"
    }
   ],
   "source": [
    "# checking the values in the plan column ['is_ultra']\n",
    "train['is_ultra'].unique()"
   ]
  },
  {
   "cell_type": "markdown",
   "id": "f391b3d3",
   "metadata": {},
   "source": [
    "### Observation\n",
    "We have noted that the values in is_ultra are only 0 and 1 as expected"
   ]
  },
  {
   "cell_type": "code",
   "execution_count": 6,
   "id": "f1fa10e9",
   "metadata": {},
   "outputs": [],
   "source": [
    "# preparing the train, valid, and test data sets\n",
    "x_train= train.drop(['is_ultra'],  axis=1)\n",
    "y_train = train['is_ultra']\n",
    "x_test= test.drop(['is_ultra'],  axis=1)\n",
    "y_test = test['is_ultra']\n",
    "x_valid= valid.drop(['is_ultra'],  axis=1)\n",
    "y_valid = valid['is_ultra']\n"
   ]
  },
  {
   "cell_type": "markdown",
   "id": "daa7ffff",
   "metadata": {},
   "source": [
    "#### Linear Regression"
   ]
  },
  {
   "cell_type": "code",
   "execution_count": 26,
   "id": "a1167ef7",
   "metadata": {},
   "outputs": [
    {
     "name": "stdout",
     "output_type": "stream",
     "text": [
      "linear regressor mean : 0.30266358736469995 linear_mae:  0.39755213238676046 linear_mse:  0.20364514353609944 linear rmse 0.45127058793599595\n"
     ]
    }
   ],
   "source": [
    "# Import linear regression from sklearn\n",
    "\n",
    "from sklearn.linear_model import LinearRegression\n",
    "lr = LinearRegression()\n",
    "\n",
    "#building linear regression model\n",
    "lrmodel = lr.fit(x_train, y_train)\n",
    "#use model to predict\n",
    "y_linear_pred = lrmodel.predict(x_test)\n",
    "\n",
    "actual_l = y_linear_pred.mean()\n",
    "\n",
    "\n",
    "# calculating the mse, mae \n",
    "linear_mae = mean_absolute_error(y_test,y_linear_pred)\n",
    "\n",
    "\n",
    "linear_mse = mean_squared_error(y_test, y_linear_pred)\n",
    "\n",
    "linear_rmse = mean_squared_error(y_test, y_linear_pred, squared= False)\n",
    "\n",
    "print ('linear regressor mean :', actual_l, 'linear_mae: ', linear_mae,'linear_mse: ', linear_mse, 'linear rmse', linear_rmse) # for linear regression"
   ]
  },
  {
   "cell_type": "markdown",
   "id": "b5aada85",
   "metadata": {},
   "source": [
    "#### RandomForestRegressor"
   ]
  },
  {
   "cell_type": "code",
   "execution_count": 42,
   "id": "e57e28d2",
   "metadata": {},
   "outputs": [
    {
     "name": "stdout",
     "output_type": "stream",
     "text": [
      "random forest mean : 0.33110419906687405 random_forest_mae:  0.29287713841368584 random_forest mse:  0.1615710730948678 random_forest rmse:  0.40195904405158966\n"
     ]
    }
   ],
   "source": [
    "# import randomforestregressor from sk learn\n",
    "from sklearn.ensemble import RandomForestRegressor\n",
    "\n",
    "# Build and train RandomForestRegressor model\n",
    "regressor = RandomForestRegressor(random_state=42)\n",
    "regressor.fit(x_train, y_train)\n",
    "\n",
    "# use the model to predict the mean \n",
    "y_regressor_pred = regressor.predict(x_test)\n",
    "actual_rfr = y_regressor_pred.mean()\n",
    "\n",
    "# calculating the mse, mae \n",
    "\n",
    "forest_mae = mean_absolute_error(y_test,y_regressor_pred)\n",
    "\n",
    "\n",
    "forest_mse = mean_squared_error(y_test, y_regressor_pred)\n",
    "\n",
    "forest_rmse = mean_squared_error(y_test, y_regressor_pred, squared= False)\n",
    "print ('random forest mean :', actual_rfr, 'random_forest_mae: ', forest_mae,'random_forest mse: ', forest_mse ,'random_forest rmse: ', forest_rmse) # for RandomForestRegressor\n",
    "\n"
   ]
  },
  {
   "cell_type": "markdown",
   "id": "f7a697b3",
   "metadata": {},
   "source": [
    "#### Decision tree"
   ]
  },
  {
   "cell_type": "code",
   "execution_count": 28,
   "id": "e07a6696",
   "metadata": {},
   "outputs": [
    {
     "name": "stdout",
     "output_type": "stream",
     "text": [
      "DecisionTreeRegressor mean : 0.3343701399688958 decision tree mae:  0.2986003110419907 decison tree mse:  0.2986003110419907 decison tree rmse:  0.5464433282985444\n"
     ]
    }
   ],
   "source": [
    "#import decision Tree model class fro sklearn\n",
    "from sklearn.tree import DecisionTreeRegressor\n",
    "\n",
    "#build and train the model\n",
    "\n",
    "tree = DecisionTreeRegressor(random_state=12345)\n",
    "tree.fit(x_train, y_train)\n",
    "\n",
    "#calcualte the mean using the model\n",
    "y_tree_pred = tree.predict(x_test)\n",
    "actual_tree = y_tree_pred.mean()\n",
    "\n",
    "\n",
    "#calculate the mae, mse\n",
    "\n",
    "tree_mae = mean_absolute_error(y_test,y_tree_pred)\n",
    "\n",
    "\n",
    "tree_mse = mean_squared_error(y_test, y_tree_pred)\n",
    "tree_rmse = mean_squared_error(y_test, y_tree_pred, squared=False)\n",
    "print ('DecisionTreeRegressor mean :', actual_tree, 'decision tree mae: ', tree_mae,'decison tree mse: ', tree_mse, 'decison tree rmse: ', tree_rmse) # for DecisionTreeRegressor\n"
   ]
  },
  {
   "cell_type": "code",
   "execution_count": 29,
   "id": "77a36b19",
   "metadata": {},
   "outputs": [
    {
     "name": "stdout",
     "output_type": "stream",
     "text": [
      "linear regressor mean : 0.30266358736469995 linear_mae:  0.39755213238676046 linear_mse:  0.20364514353609944 linear rmse 0.45127058793599595\n",
      "random forest mean : 0.33110419906687405 random_forest_mae:  0.29287713841368584 random_forest mse:  0.1615710730948678 random_forest rmse:  0.40195904405158966\n",
      "DecisionTreeRegressor mean : 0.3343701399688958 decision tree mae:  0.2986003110419907 decison tree mse:  0.2986003110419907 decison tree rmse:  0.5464433282985444\n"
     ]
    }
   ],
   "source": [
    "print ('linear regressor mean :', actual_l, 'linear_mae: ', linear_mae,'linear_mse: ', linear_mse, 'linear rmse', linear_rmse) # for linear regression\n",
    "print ('random forest mean :', actual_rfr, 'random_forest_mae: ', forest_mae,'random_forest mse: ', forest_mse ,'random_forest rmse: ', forest_rmse) # for RandomForestRegressor\n",
    "print ('DecisionTreeRegressor mean :', actual_tree, 'decision tree mae: ', tree_mae,'decison tree mse: ', tree_mse, 'decison tree rmse: ', tree_rmse) # for DecisionTreeRegressor\n"
   ]
  },
  {
   "cell_type": "markdown",
   "id": "7a72c48e",
   "metadata": {},
   "source": [
    "## Finding and recommedation\n",
    "\n",
    "from the results of our models, the random forest regression proofs to have the best accuracy since it has the lowest MSE, mean squared error of 0.16 or RMSE of 0.4.\n",
    "\n",
    "\n"
   ]
  }
 ],
 "metadata": {
  "kernelspec": {
   "display_name": "Python 3 (ipykernel)",
   "language": "python",
   "name": "python3"
  },
  "language_info": {
   "codemirror_mode": {
    "name": "ipython",
    "version": 3
   },
   "file_extension": ".py",
   "mimetype": "text/x-python",
   "name": "python",
   "nbconvert_exporter": "python",
   "pygments_lexer": "ipython3",
   "version": "3.10.8"
  }
 },
 "nbformat": 4,
 "nbformat_minor": 5
}
